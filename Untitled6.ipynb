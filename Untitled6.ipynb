{
 "cells": [
  {
   "cell_type": "code",
   "execution_count": 10,
   "metadata": {},
   "outputs": [
    {
     "name": "stdout",
     "output_type": "stream",
     "text": [
      "what is your nameAlex\n",
      "what is your age12\n",
      "Alex 12\n"
     ]
    }
   ],
   "source": [
    "name = input(\"what is your name\")\n",
    "age = input(\"what is your age\")\n",
    "\n",
    "print('{} {}'.format(name,age))\n"
   ]
  },
  {
   "cell_type": "code",
   "execution_count": 11,
   "metadata": {},
   "outputs": [
    {
     "name": "stdout",
     "output_type": "stream",
     "text": [
      "12 fred\n"
     ]
    }
   ],
   "source": [
    "name = 'fred'\n",
    "age = '12'\n",
    "\n",
    "print('{1} {0}'.format(name,age))\n"
   ]
  },
  {
   "cell_type": "code",
   "execution_count": 12,
   "metadata": {},
   "outputs": [
    {
     "name": "stdout",
     "output_type": "stream",
     "text": [
      "fred 12\n"
     ]
    }
   ],
   "source": [
    "name = 'fred'\n",
    "age = '12'\n",
    "\n",
    "print('{} {}'.format(name,age))\n"
   ]
  },
  {
   "cell_type": "code",
   "execution_count": 13,
   "metadata": {},
   "outputs": [
    {
     "name": "stdout",
     "output_type": "stream",
     "text": [
      "10\n",
      "3.141593\n"
     ]
    }
   ],
   "source": [
    "radius = 10\n",
    "pi = 3.141592653589793\n",
    "\n",
    "print('{:d}'.format(radius))\n",
    "print('{:f}'.format(pi))\n"
   ]
  },
  {
   "cell_type": "code",
   "execution_count": 14,
   "metadata": {},
   "outputs": [
    {
     "name": "stdout",
     "output_type": "stream",
     "text": [
      "3.14\n"
     ]
    }
   ],
   "source": [
    "\n",
    "pi = 3.141592653589793\n",
    "print('{:0.2f}'.format(pi))\n"
   ]
  },
  {
   "cell_type": "code",
   "execution_count": 16,
   "metadata": {},
   "outputs": [
    {
     "name": "stdout",
     "output_type": "stream",
     "text": [
      "111 , A \n"
     ]
    }
   ],
   "source": [
    "val = 65\n",
    "ch = 'o'\n",
    "\n",
    "x=ord(ch)\n",
    "y=chr(val)\n",
    "\n",
    "print('{} , {} '.format(x,y))"
   ]
  },
  {
   "cell_type": "code",
   "execution_count": null,
   "metadata": {
    "collapsed": true
   },
   "outputs": [],
   "source": []
  }
 ],
 "metadata": {
  "kernelspec": {
   "display_name": "Python 3",
   "language": "python",
   "name": "python3"
  },
  "language_info": {
   "codemirror_mode": {
    "name": "ipython",
    "version": 3
   },
   "file_extension": ".py",
   "mimetype": "text/x-python",
   "name": "python",
   "nbconvert_exporter": "python",
   "pygments_lexer": "ipython3",
   "version": "3.5.2"
  }
 },
 "nbformat": 4,
 "nbformat_minor": 2
}
